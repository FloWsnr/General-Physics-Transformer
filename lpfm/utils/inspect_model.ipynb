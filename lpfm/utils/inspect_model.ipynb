{
 "cells": [
  {
   "cell_type": "code",
   "execution_count": 32,
   "metadata": {},
   "outputs": [],
   "source": [
    "# Inspect a given model\n",
    "from pathlib import Path\n",
    "import torch\n",
    "import torch.nn as nn\n",
    "import torch.optim as optim\n",
    "import yaml\n",
    "import matplotlib.pyplot as plt\n",
    "\n",
    "from metaparc.model.transformer.model import get_model\n",
    "from metaparc.run.train import get_lr_scheduler\n",
    "\n",
    "def inspect_model(model: nn.Module):\n",
    "\n",
    "    total_params = sum(p.numel() for p in model.parameters())\n",
    "    print(f\"Total parameters: {total_params:,} ({total_params/1e6:.2f}M)\")\n",
    "\n",
    "    # Print the number of parameters for each layer\n",
    "    for name, module in model.named_modules():\n",
    "        print(f\"{name}: {sum(p.numel() for p in module.parameters())}\")"
   ]
  },
  {
   "cell_type": "code",
   "execution_count": null,
   "metadata": {},
   "outputs": [],
   "source": [
    "config_path = Path(\"/Users/zsa8rk/Coding/MetaPARC/metaparc/run/config.yaml\")\n",
    "\n",
    "with open(config_path, \"r\") as f:\n",
    "    config = yaml.safe_load(f)\n",
    "model_config = config[\"model\"]\n",
    "\n",
    "\n",
    "model = get_model(model_config)\n",
    "print(model)\n",
    "inspect_model(model)"
   ]
  },
  {
   "cell_type": "code",
   "execution_count": null,
   "metadata": {},
   "outputs": [],
   "source": [
    "# Inspect learning rate scheduler\n",
    "optimizer = optim.Adam(model.parameters(), lr=config[\"training\"][\"lr_scheduler\"][\"learning_rate\"])\n",
    "cosine_scheduler = optim.lr_scheduler.CosineAnnealingWarmRestarts(\n",
    "        optimizer, T_0=10000\n",
    "    )\n",
    "\n",
    "# plot learning rate\n",
    "lr = []\n",
    "for epoch in range(1):\n",
    "    for batch in range(100000):\n",
    "        optimizer.step()\n",
    "        cosine_scheduler.step()\n",
    "        lr.append(cosine_scheduler.get_last_lr()[0])\n",
    "\n",
    "plt.plot(lr)\n"
   ]
  }
 ],
 "metadata": {
  "kernelspec": {
   "display_name": "Python 3",
   "language": "python",
   "name": "python3"
  },
  "language_info": {
   "codemirror_mode": {
    "name": "ipython",
    "version": 3
   },
   "file_extension": ".py",
   "mimetype": "text/x-python",
   "name": "python",
   "nbconvert_exporter": "python",
   "pygments_lexer": "ipython3",
   "version": "3.12.9"
  }
 },
 "nbformat": 4,
 "nbformat_minor": 2
}
