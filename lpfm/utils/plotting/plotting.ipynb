{
 "cells": [
  {
   "cell_type": "code",
   "execution_count": 1,
   "metadata": {},
   "outputs": [],
   "source": [
    "from pathlib import Path\n",
    "import pandas as pd\n",
    "import numpy as np\n",
    "\n",
    "from lpfm.utils.plotting.plot_lossVsTime import LossVsTimePlotter\n",
    "from lpfm.utils.plotting.base_plotter import calculate_combined_stats, calculate_combined_stats_rollout\n",
    "\n",
    "pd.set_option('display.max_rows', None)  # Show all rows\n",
    "pd.set_option('display.max_columns', None)  # Show all columns\n",
    "pd.set_option('display.width', None)  # Auto-detect display width\n",
    "pd.set_option('display.float_format', lambda x: '%.6f' % x)  # Format float numbers\n",
    "\n",
    "base_dir = Path(\"/scratch/zsa8rk/logs\")\n",
    "\n",
    "# Get Mean, Median and STD from loss dataframes\n",
    "RUNS = [\n",
    "    # (\"fno-s-main\", \"best_model\"),\n",
    "    # (\"fno-m-main\", \"best_model\"),\n",
    "    # (\"ti-main-4-1\", \"0080\"),\n",
    "    # (\"m-main-4-1\", \"0141\"),\n",
    "    # (\"l-main-4-1\", \"0140\"),\n",
    "    (\"xl-main-4-1-a\", \"0080\"),\n",
    "]"
   ]
  },
  {
   "cell_type": "code",
   "execution_count": 13,
   "metadata": {},
   "outputs": [
    {
     "name": "stdout",
     "output_type": "stream",
     "text": [
      "Run: xl-main-4-1-a, Checkpoint: 0080\n"
     ]
    },
    {
     "data": {
      "text/html": [
       "<div>\n",
       "<style scoped>\n",
       "    .dataframe tbody tr th:only-of-type {\n",
       "        vertical-align: middle;\n",
       "    }\n",
       "\n",
       "    .dataframe tbody tr th {\n",
       "        vertical-align: top;\n",
       "    }\n",
       "\n",
       "    .dataframe thead th {\n",
       "        text-align: right;\n",
       "    }\n",
       "</style>\n",
       "<table border=\"1\" class=\"dataframe\">\n",
       "  <thead>\n",
       "    <tr style=\"text-align: right;\">\n",
       "      <th></th>\n",
       "      <th>Combined Mean</th>\n",
       "      <th>Combined Median</th>\n",
       "      <th>Combined Std</th>\n",
       "    </tr>\n",
       "    <tr>\n",
       "      <th>Dataset</th>\n",
       "      <th></th>\n",
       "      <th></th>\n",
       "      <th></th>\n",
       "    </tr>\n",
       "  </thead>\n",
       "  <tbody>\n",
       "    <tr>\n",
       "      <th>object_sym_flow_air_dt_1</th>\n",
       "      <td>0.262340</td>\n",
       "      <td>0.217593</td>\n",
       "      <td>0.130288</td>\n",
       "    </tr>\n",
       "    <tr>\n",
       "      <th>OVERALL</th>\n",
       "      <td>0.280791</td>\n",
       "      <td>0.231461</td>\n",
       "      <td>0.133324</td>\n",
       "    </tr>\n",
       "  </tbody>\n",
       "</table>\n",
       "</div>"
      ],
      "text/plain": [
       "                          Combined Mean  Combined Median  Combined Std\n",
       "Dataset                                                               \n",
       "object_sym_flow_air_dt_1       0.262340         0.217593      0.130288\n",
       "OVERALL                        0.280791         0.231461      0.133324"
      ]
     },
     "metadata": {},
     "output_type": "display_data"
    }
   ],
   "source": [
    "\n",
    "\n",
    "for run, checkpoint in RUNS:\n",
    "    eval_dir = base_dir / run / \"eval\" / checkpoint / \"generalization_flipx\"\n",
    "    loss_df = pd.read_csv(eval_dir / \"losses.csv\", header=0)\n",
    "    # Example usage:\n",
    "    # Calculate combined means for different flow types\n",
    "    flow_patterns = [\n",
    "        'cylinder_sym_flow_water',\n",
    "        'cylinder_pipe_flow_water',\n",
    "        'object_periodic_flow_water',\n",
    "        'object_sym_flow_air_dt_1',\n",
    "        'rayleigh_benard',\n",
    "        'rayleigh_benard_obstacle_dt_1',\n",
    "        'twophase_flow',\n",
    "        'shear_flow',\n",
    "        'euler_multi_quadrants_periodicBC',\n",
    "        'heated_object_pipe_flow_air',\n",
    "        'cooled_object_pipe_flow_air',\n",
    "        'acoustic_scattering_inclusions',\n",
    "        'supersonic_flow_dt_1',\n",
    "        'euler_multi_quadrants_openBC_dt_1',\n",
    "        'open_obj_water_dt_1',\n",
    "\n",
    "    ]\n",
    "\n",
    "    combined_means = calculate_combined_stats(loss_df, flow_patterns)\n",
    "\n",
    "    print(f\"Run: {run}, Checkpoint: {checkpoint}\")\n",
    "    display(combined_means)"
   ]
  }
 ],
 "metadata": {
  "kernelspec": {
   "display_name": "lpfm",
   "language": "python",
   "name": "python3"
  },
  "language_info": {
   "codemirror_mode": {
    "name": "ipython",
    "version": 3
   },
   "file_extension": ".py",
   "mimetype": "text/x-python",
   "name": "python",
   "nbconvert_exporter": "python",
   "pygments_lexer": "ipython3",
   "version": "3.12.10"
  }
 },
 "nbformat": 4,
 "nbformat_minor": 2
}
