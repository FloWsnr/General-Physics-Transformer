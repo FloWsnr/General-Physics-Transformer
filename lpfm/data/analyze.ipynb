{
 "cells": [
  {
   "cell_type": "markdown",
   "metadata": {},
   "source": [
    "# Analyze the datasets\n",
    "\n",
    "This notebook is used to analyze and generate statistics about the datasets.\n",
    "Most importantly, it computes the number of samples in each dataset.\n"
   ]
  },
  {
   "cell_type": "code",
   "execution_count": 1,
   "metadata": {},
   "outputs": [],
   "source": [
    "# Import the necessary libraries\n",
    "from pathlib import Path\n",
    "import h5py\n"
   ]
  },
  {
   "cell_type": "code",
   "execution_count": null,
   "metadata": {},
   "outputs": [],
   "source": [
    "# Find all datasets\n",
    "data_dir = Path(r\"/hpcwork/rwth1802/coding/Large-Physics-Foundation-Model/data/datasets\")\n",
    "\n",
    "# list all dirs in the data_dir\n",
    "datasets = []\n",
    "for dir in data_dir.iterdir():\n",
    "    if dir.is_dir():\n",
    "        datasets.append(dir)\n",
    "\n",
    "# Print the number of samples in each dataset\n",
    "\n",
    "dataset_stats = {}\n",
    "\n",
    "for dataset in datasets:\n",
    "    dataset_name = dataset.name\n",
    "    dataset_stats[dataset_name] = {}\n",
    "\n",
    "    # gather the size of the dataset\n",
    "    dataset_size = 0\n",
    "    for file in dataset.glob(\"**/*\"):\n",
    "        if file.is_file():\n",
    "            dataset_size += file.stat().st_size\n",
    "\n",
    "    # Convert bytes to GB for better readability\n",
    "    dataset_stats[dataset_name][\"size\"] = f\"{dataset_size / (1024**3):.2f} GB\"\n",
    "\n",
    "    # find all h5 files in the dataset\n",
    "    h5_files = list(dataset.glob(\"**/*.hdf5\"))\n",
    "\n",
    "    n_traj = 0\n",
    "    for h5_file in h5_files:\n",
    "        with h5py.File(h5_file, \"r\") as f:\n",
    "            # traj is attribute of the file\n",
    "            n_traj += int(f.attrs[\"n_trajectories\"])\n",
    "\n",
    "    # use the last h5 file to get the number of timesteps, x, and y\n",
    "    with h5py.File(h5_files[-1], \"r\") as f:\n",
    "        # time is a dataset in the group \"dims\"\n",
    "        n_timesteps = len(f[\"dimensions\"][\"time\"])\n",
    "        # x is a dataset in the group \"dims\"\n",
    "        n_x = len(f[\"dimensions\"][\"x\"])\n",
    "        # y is a dataset in the group \"dims\"\n",
    "        n_y = len(f[\"dimensions\"][\"y\"])\n",
    "        # number of fields is a dataset in the group \"fields\"\n",
    "        n_fields_0 = len(f[\"t0_fields\"].attrs[\"field_names\"])\n",
    "        n_fields_1 = len(f[\"t1_fields\"].attrs[\"field_names\"])\n",
    "\n",
    "    dataset_stats[dataset_name][\"n_traj\"] = n_traj\n",
    "    dataset_stats[dataset_name][\"n_timesteps\"] = n_timesteps\n",
    "    dataset_stats[dataset_name][\"n_x\"] = n_x\n",
    "    dataset_stats[dataset_name][\"n_y\"] = n_y\n",
    "    dataset_stats[dataset_name][\"n_fields_0\"] = n_fields_0\n",
    "    dataset_stats[dataset_name][\"n_fields_1\"] = n_fields_1\n",
    "\n",
    "for dataset_name, stats in dataset_stats.items():\n",
    "    print(f\"{dataset_name}:\")\n",
    "    for key, value in stats.items():\n",
    "        print(f\"  {key}: {value}\")\n",
    "    print()\n",
    "\n",
    "\n",
    "\n",
    "\n",
    "\n"
   ]
  }
 ],
 "metadata": {
  "kernelspec": {
   "display_name": "Python 3",
   "language": "python",
   "name": "python3"
  },
  "language_info": {
   "codemirror_mode": {
    "name": "ipython",
    "version": 3
   },
   "file_extension": ".py",
   "mimetype": "text/x-python",
   "name": "python",
   "nbconvert_exporter": "python",
   "pygments_lexer": "ipython3",
   "version": "3.12.10"
  }
 },
 "nbformat": 4,
 "nbformat_minor": 2
}
