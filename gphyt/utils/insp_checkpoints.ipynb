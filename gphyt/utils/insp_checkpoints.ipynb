{
 "cells": [
  {
   "cell_type": "code",
   "execution_count": 1,
   "metadata": {},
   "outputs": [],
   "source": [
    "import torch\n",
    "from pathlib import Path\n",
    "import gc\n",
    "\n",
    "def load_checkpoint(path: Path) -> dict:\n",
    "    checkpoint = torch.load(path, weights_only=False)\n",
    "    return checkpoint"
   ]
  },
  {
   "cell_type": "code",
   "execution_count": null,
   "metadata": {},
   "outputs": [],
   "source": [
    "base_dir = Path(\"/scratch/zsa8rk/logs/ti-main-4-1\")\n",
    "\n",
    "for checkpoint_path in sorted(base_dir.glob(\"val_*/*.pth\")):\n",
    "    checkpoint = torch.load(checkpoint_path, weights_only=False, map_location=torch.device(\"cpu\"))\n",
    "    print(checkpoint_path.parent.name[-4:],\" | \" ,checkpoint[\"batches_trained\"])\n",
    "    del checkpoint\n",
    "    gc.collect()"
   ]
  }
 ],
 "metadata": {
  "kernelspec": {
   "display_name": "lpfm",
   "language": "python",
   "name": "python3"
  },
  "language_info": {
   "codemirror_mode": {
    "name": "ipython",
    "version": 3
   },
   "file_extension": ".py",
   "mimetype": "text/x-python",
   "name": "python",
   "nbconvert_exporter": "python",
   "pygments_lexer": "ipython3",
   "version": "3.12.10"
  }
 },
 "nbformat": 4,
 "nbformat_minor": 2
}
