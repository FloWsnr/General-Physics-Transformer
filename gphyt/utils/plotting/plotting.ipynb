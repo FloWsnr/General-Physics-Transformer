{
 "cells": [
  {
   "cell_type": "code",
   "execution_count": 1,
   "metadata": {},
   "outputs": [],
   "source": [
    "from pathlib import Path\n",
    "import pandas as pd\n",
    "import numpy as np\n",
    "\n",
    "from lpfm.utils.plotting.plot_lossVsTime import LossVsTimePlotter\n",
    "from lpfm.utils.plotting.base_plotter import calculate_combined_stats, calculate_combined_stats_rollout\n",
    "\n",
    "pd.set_option('display.max_rows', None)  # Show all rows\n",
    "pd.set_option('display.max_columns', None)  # Show all columns\n",
    "pd.set_option('display.width', None)  # Auto-detect display width\n",
    "pd.set_option('display.float_format', lambda x: '%.6f' % x)  # Format float numbers\n",
    "\n",
    "base_dir = Path(\"/scratch/zsa8rk/logs\")\n",
    "\n",
    "# Get Mean, Median and STD from loss dataframes\n",
    "RUNS = [\n",
    "    # (\"fno-s-main\", \"best_model\"),\n",
    "    # (\"fno-m-main\", \"best_model\"),\n",
    "    # (\"ti-main-4-1\", \"0080\"),\n",
    "    # (\"m-main-4-1\", \"0141\"),\n",
    "    # (\"l-main-4-1\", \"0140\"),\n",
    "    (\"xl-main-4-1-a\", \"0080\"),\n",
    "]"
   ]
  },
  {
   "cell_type": "code",
   "execution_count": null,
   "metadata": {},
   "outputs": [],
   "source": [
    "\n",
    "\n",
    "for run, checkpoint in RUNS:\n",
    "    eval_dir = base_dir / run / \"eval\" / checkpoint / \"generalization_flipx\"\n",
    "    loss_df = pd.read_csv(eval_dir / \"losses.csv\", header=0)\n",
    "    # Example usage:\n",
    "    # Calculate combined means for different flow types\n",
    "    flow_patterns = [\n",
    "        'cylinder_sym_flow_water',\n",
    "        'cylinder_pipe_flow_water',\n",
    "        'object_periodic_flow_water',\n",
    "        'object_sym_flow_air_dt_1',\n",
    "        'rayleigh_benard',\n",
    "        'rayleigh_benard_obstacle_dt_1',\n",
    "        'twophase_flow',\n",
    "        'shear_flow',\n",
    "        'euler_multi_quadrants_periodicBC',\n",
    "        'heated_object_pipe_flow_air',\n",
    "        'cooled_object_pipe_flow_air',\n",
    "        'acoustic_scattering_inclusions',\n",
    "        'supersonic_flow_dt_1',\n",
    "        'euler_multi_quadrants_openBC_dt_1',\n",
    "        'open_obj_water_dt_1',\n",
    "\n",
    "    ]\n",
    "\n",
    "    combined_means = calculate_combined_stats(loss_df, flow_patterns)\n",
    "\n",
    "    print(f\"Run: {run}, Checkpoint: {checkpoint}\")\n",
    "    display(combined_means)"
   ]
  },
  {
   "cell_type": "code",
   "execution_count": 3,
   "metadata": {},
   "outputs": [],
   "source": [
    "import yaml\n",
    "from pathlib import Path\n",
    "\n",
    "try:\n",
    "    from yaml import CLoader as Loader\n",
    "except ImportError:\n",
    "    from yaml import Loader\n",
    "\n",
    "\n",
    "def load_config(path: Path) -> dict:\n",
    "    with open(path, \"r\") as f:\n",
    "        config = yaml.load(f, Loader=Loader)\n",
    "    return config"
   ]
  },
  {
   "cell_type": "code",
   "execution_count": null,
   "metadata": {},
   "outputs": [],
   "source": [
    "from lpfm.run.run_utils import load_stored_model\n",
    "import torch\n",
    "from pathlib import Path\n",
    "from lpfm.data.phys_dataset import PhysicsDataset\n",
    "from lpfm.model.transformer.model import get_model\n",
    "\n",
    "\n",
    "model_path = Path(\"/scratch/zsa8rk/logs/ti-main-4-1/best_model.pth\")\n",
    "\n",
    "config_path = model_path.parent / \"config_eval.yaml\"\n",
    "config = load_config(config_path)\n",
    "\n",
    "model_cp = load_stored_model(model_path, device=torch.device(\"cpu\"),remove_ddp=True)\n",
    "model_config = config[\"model\"]\n",
    "model = get_model(model_config)\n",
    "model.load_state_dict(model_cp[\"model_state_dict\"])\n",
    "model.eval()"
   ]
  },
  {
   "cell_type": "code",
   "execution_count": 5,
   "metadata": {},
   "outputs": [],
   "source": [
    "base_path = Path(\"/scratch/zsa8rk/datasets\")\n",
    "path = base_path / \"acoustic_scattering_inclusions\" / \"data\" / \"test\"\n",
    "\n",
    "dataset = PhysicsDataset(path, full_trajectory_mode=False, use_normalization=True)"
   ]
  },
  {
   "cell_type": "code",
   "execution_count": 6,
   "metadata": {},
   "outputs": [],
   "source": [
    "with torch.no_grad():\n",
    "    x, y = dataset[100]\n",
    "    x = x.unsqueeze(0)\n",
    "    y = y.unsqueeze(0)\n",
    "    pred = model(x)"
   ]
  },
  {
   "cell_type": "code",
   "execution_count": 7,
   "metadata": {},
   "outputs": [],
   "source": [
    "from lpfm.utils.train_vis import visualize_predictions\n",
    "\n",
    "visualize_predictions(\n",
    "    save_path=Path(\"/home/zsa8rk/Coding/Large-Physics-Foundation-Model/logs/acoustic_scattering_inclusions\"),\n",
    "    inputs=x,\n",
    "    predictions=pred,\n",
    "    targets=y,\n",
    ")"
   ]
  }
 ],
 "metadata": {
  "kernelspec": {
   "display_name": "lpfm",
   "language": "python",
   "name": "python3"
  },
  "language_info": {
   "codemirror_mode": {
    "name": "ipython",
    "version": 3
   },
   "file_extension": ".py",
   "mimetype": "text/x-python",
   "name": "python",
   "nbconvert_exporter": "python",
   "pygments_lexer": "ipython3",
   "version": "3.12.10"
  }
 },
 "nbformat": 4,
 "nbformat_minor": 2
}
