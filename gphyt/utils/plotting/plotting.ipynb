{
 "cells": [
  {
   "cell_type": "code",
   "execution_count": null,
   "metadata": {},
   "outputs": [],
   "source": [
    "from pathlib import Path\n",
    "import pandas as pd\n",
    "import numpy as np\n",
    "\n",
    "from gphyt.utils.plotting.plot_lossVsTime import LossVsTimePlotter\n",
    "from gphyt.utils.plotting.base_plotter import (\n",
    "    calculate_combined_stats,\n",
    "    calculate_combined_stats_rollout,\n",
    ")\n",
    "\n",
    "pd.set_option('display.max_rows', None)  # Show all rows\n",
    "pd.set_option('display.max_columns', None)  # Show all columns\n",
    "pd.set_option('display.width', None)  # Auto-detect display width\n",
    "pd.set_option('display.float_format', lambda x: '%.2e' % x)  # Format float numbers in scientific notation\n",
    "\n",
    "base_dir = Path(\"/hpcwork/rwth1802/coding/General-Physics-Transformer/results\")\n",
    "\n",
    "# Get Mean, Median and STD from loss dataframes\n",
    "RUNS = [\n",
    "    (\"s-main-03\", \"best_model\"),\n",
    "    (\"m-main-03\", \"best_model\"),\n",
    "    (\"l-main-05\", \"best_model\"),\n",
    "    (\"xl-main-03\", \"best_model\"),\n",
    "    (\"fno-m\", \"best_model\"),\n",
    "    (\"unet-m-04\", \"best_model\")\n",
    "]"
   ]
  },
  {
   "cell_type": "code",
   "execution_count": null,
   "metadata": {},
   "outputs": [],
   "source": [
    "\n",
    "DATASETS = [\n",
    "    [\n",
    "        \"cylinder_sym_flow_water\",\n",
    "        \"cylinder_pipe_flow_water\",\n",
    "        \"object_periodic_flow_water\",\n",
    "        \"object_sym_flow_water\",\n",
    "        \"object_sym_flow_air\",\n",
    "    ],\n",
    "    [\"rayleigh_benard\", \"rayleigh_benard_obstacle\"],\n",
    "    \"twophase_flow\",\n",
    "    \"shear_flow\",\n",
    "    \"euler_multi_quadrants_periodicBC\",\n",
    "    [\"heated_object_pipe_flow_air\", \"cooled_object_pipe_flow_air\"],\n",
    "    # \"acoustic_scattering_inclusions\",\n",
    "]\n",
    "\n",
    "for run, checkpoint in RUNS:\n",
    "    eval_dir = base_dir / run / \"eval\" / checkpoint\n",
    "    mse_df = pd.read_csv(eval_dir / \"mse_losses.csv\", header=0)\n",
    "    rvmse_df = pd.read_csv(eval_dir / \"rvmse_losses.csv\", header=0)\n",
    "    # Example usage:\n",
    "    # Calculate combined means for different flow types\n",
    "\n",
    "    combined_means_mse = calculate_combined_stats(mse_df, DATASETS)\n",
    "    combined_means_rvmse = calculate_combined_stats(rvmse_df, DATASETS)\n",
    "\n",
    "    print(f\"Run: {run}, Checkpoint: {checkpoint}\")\n",
    "    # display(combined_means_mse)\n",
    "    display(combined_means_rvmse)"
   ]
  },
  {
   "cell_type": "code",
   "execution_count": null,
   "metadata": {},
   "outputs": [],
   "source": [
    "DATASETS = [\n",
    "    \"euler_multi_quadrants_openBC\",\n",
    "    \"open_obj_water\",\n",
    "    \"supersonic_flow\",\n",
    "    \"turbulent_radiative_layer_2D\",\n",
    "]\n",
    "\n",
    "eval_dir = base_dir / \"xl-main-03\" / \"eval\" / \"generalization\"\n",
    "mse_df = pd.read_csv(eval_dir / \"mse_losses.csv\", header=0)\n",
    "rvmse_df = pd.read_csv(eval_dir / \"rvmse_losses.csv\", header=0)\n",
    "# Example usage:\n",
    "# Calculate combined means for different flow types\n",
    "\n",
    "combined_means_mse = calculate_combined_stats(mse_df, DATASETS)\n",
    "combined_means_rvmse = calculate_combined_stats(rvmse_df, DATASETS)\n",
    "display(combined_means_mse)\n",
    "display(combined_means_rvmse)\n"
   ]
  }
 ],
 "metadata": {
  "kernelspec": {
   "display_name": "gphyt",
   "language": "python",
   "name": "python3"
  },
  "language_info": {
   "codemirror_mode": {
    "name": "ipython",
    "version": 3
   },
   "file_extension": ".py",
   "mimetype": "text/x-python",
   "name": "python",
   "nbconvert_exporter": "python",
   "pygments_lexer": "ipython3",
   "version": "3.12.11"
  }
 },
 "nbformat": 4,
 "nbformat_minor": 2
}
