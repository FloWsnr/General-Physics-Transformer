{
 "cells": [
  {
   "cell_type": "code",
   "execution_count": 2,
   "metadata": {},
   "outputs": [],
   "source": [
    "import h5py\n",
    "import numpy as np\n",
    "import matplotlib.pyplot as plt\n",
    "from pathlib import Path\n",
    "\n",
    "import imageio.v3 as iio\n",
    "from matplotlib.colors import Normalize\n",
    "\n",
    "# Load HDF5 file\n",
    "data_path = Path(r\"C:\\Users\\zsa8rk\\Coding\\MetaPARC\\data\\datasets\\turbulent_radiative_layer_2D\\data\\test\\turbulent_radiative_layer_tcool_0.03.hdf5\")  # Adjust path as needed\n",
    "with h5py.File(data_path, 'r') as f:\n",
    "    vel = f[\"t1_fields\"]['velocity'][:]  # Shape assumed to be (n_traj, time, height, width, 2)\n"
   ]
  },
  {
   "cell_type": "code",
   "execution_count": 11,
   "metadata": {},
   "outputs": [
    {
     "name": "stdout",
     "output_type": "stream",
     "text": [
      "Writing 101 frames to pressure_animation.gif\n",
      "Animation saved to pressure_animation.gif\n"
     ]
    }
   ],
   "source": [
    "traj_idx = 0\n",
    "vel_mag = np.linalg.norm(vel[traj_idx, :, :, :, :], axis=-1)\n",
    "\n",
    "# reduce dim with size 1 to 0\n",
    "vel_mag = np.squeeze(vel_mag)\n",
    "\n",
    "# Create normalized colormap for consistent color scaling\n",
    "norm = Normalize(vmin=vel_mag.min(), vmax=vel_mag.max())\n",
    "\n",
    "# Create frames\n",
    "frames = []\n",
    "for t in range(vel_mag.shape[0]):\n",
    "    # Create figure and plot\n",
    "    fig, ax = plt.subplots()\n",
    "    im = ax.imshow(vel_mag[t,:,:], norm=norm)\n",
    "    plt.colorbar(im)\n",
    "    ax.set_title(f'Time step {t}')\n",
    "    \n",
    "    # Convert plot to image array\n",
    "    fig.canvas.draw()\n",
    "    frame = np.frombuffer(fig.canvas.buffer_rgba(), dtype=np.uint8)\n",
    "    frame = frame.reshape(fig.canvas.get_width_height()[::-1] + (4,))[:,:,:3]\n",
    "    frames.append(frame)\n",
    "    plt.close()\n",
    "\n",
    "# Save as GIF\n",
    "output_path = Path(\"pressure_animation.gif\")\n",
    "print(f\"Writing {len(frames)} frames to {output_path}\")\n",
    "iio.imwrite(output_path, frames, fps=10)\n",
    "print(f\"Animation saved to {output_path}\")"
   ]
  }
 ],
 "metadata": {
  "kernelspec": {
   "display_name": ".venv",
   "language": "python",
   "name": "python3"
  },
  "language_info": {
   "codemirror_mode": {
    "name": "ipython",
    "version": 3
   },
   "file_extension": ".py",
   "mimetype": "text/x-python",
   "name": "python",
   "nbconvert_exporter": "python",
   "pygments_lexer": "ipython3",
   "version": "3.12.9"
  }
 },
 "nbformat": 4,
 "nbformat_minor": 2
}
