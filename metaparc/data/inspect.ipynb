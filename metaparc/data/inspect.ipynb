{
 "cells": [
  {
   "cell_type": "code",
   "execution_count": null,
   "metadata": {},
   "outputs": [],
   "source": [
    "import h5py\n",
    "import numpy as np\n",
    "import matplotlib.pyplot as plt\n",
    "from pathlib import Path\n",
    "\n",
    "# Define paths for both files\n",
    "turb_path = Path(\"/home/flwi01/Coding/MetaPARC/data/tasks/datasets/turbulent_radiative_layer_2D/data/test/turbulent_radiative_layer_tcool_0.03.hdf5\")\n",
    "porous_path = Path(\"/home/flwi01/Coding/MetaPARC/data/tasks/datasets/porous_twophase_flow/data/porous_twophase_flow_p_cap_40000.0_theta_150.0.hdf5\")\n",
    "\n",
    "# Function to print structure\n",
    "def print_structure(name, obj):\n",
    "    print(name)\n",
    "    if isinstance(obj, h5py.Dataset):\n",
    "        print(f\"    Shape: {obj.shape}\")\n",
    "        print(f\"    Type: {obj.dtype}\")\n",
    "\n",
    "# Print structures side by side\n",
    "print(\"\\nTurbulent Radiative Layer Structure:\")\n",
    "with h5py.File(turb_path, 'r') as f1:\n",
    "    f1.visititems(print_structure)\n",
    "    print(f1[\"boundary_conditions\"][\"x_periodic\"][\"mask\"][:])\n",
    "\n",
    "# print(\"\\nPorous Two-Phase Flow Structure:\")\n",
    "# with h5py.File(porous_path, 'r') as f2:\n",
    "#     f2.visititems(print_structure)\n",
    "\n",
    "#     # print time array\n",
    "#     print(\"\\nTime array:\")\n",
    "#     print(f2[\"dimensions\"][\"x\"][:])\n",
    "\n"
   ]
  },
  {
   "cell_type": "code",
   "execution_count": 15,
   "metadata": {},
   "outputs": [],
   "source": [
    "import h5py\n",
    "import numpy as np\n",
    "import matplotlib.pyplot as plt\n",
    "from pathlib import Path\n",
    "\n",
    "# path = Path(\"/home/flwi01/Coding/MetaPARC/data/tasks/datasets/porous_twophase_flow/data\")\n",
    "# pressure = np.load(path / \"p_cap_20000.0_theta_90.0_pressure.npy\")\n",
    "# phase_boundary = np.load(path / \"p_cap_20000.0_theta_90.0_phase_boundary.npy\")\n",
    "# vel = np.load(path / \"p_cap_20000.0_theta_90.0_velocity.npy\")\n",
    "# vel_mag = np.linalg.norm(vel, axis=-1)\n",
    "\n",
    "porous_path = Path(\"/home/flwi01/Coding/MetaPARC/data/tasks/datasets/porous_twophase_flow/data/porous_twophase_flow_p_cap_40000.0_theta_130.0.hdf5\")\n",
    "with h5py.File(porous_path, \"r\") as f:\n",
    "    pressure = f[\"t0_fields/pressure\"][:]\n",
    "    phase_boundary = f[\"t0_fields/phase_boundary\"][:]\n",
    "    velocity = f[\"t1_fields/velocity\"][:]\n",
    "\n",
    "vel_mag = np.linalg.norm(velocity, axis=-1)\n"
   ]
  },
  {
   "cell_type": "code",
   "execution_count": null,
   "metadata": {},
   "outputs": [],
   "source": [
    "fig, axs = plt.subplots(2, 3)\n",
    "\n",
    "# Create modified colormap where NaN values are shown in red\n",
    "cmap = plt.cm.viridis.copy()\n",
    "cmap.set_bad('red')\n",
    "\n",
    "traj_id = 2\n",
    "time_0 = 20\n",
    "time_1 = 300\n",
    "# Plot with NaN values colored in red\n",
    "axs[0, 0].imshow(pressure[traj_id,time_0, :, :], cmap=cmap)\n",
    "axs[0, 1].imshow(phase_boundary[traj_id,time_0, :, :], cmap=cmap)\n",
    "axs[0, 2].imshow(vel_mag[traj_id,time_0, :, :], cmap=cmap)\n",
    "\n",
    "axs[1, 0].imshow(pressure[traj_id,time_1, :, :], cmap=cmap)\n",
    "axs[1, 1].imshow(phase_boundary[traj_id,time_1, :, :], cmap=cmap)\n",
    "axs[1, 2].imshow(vel_mag[traj_id,time_1, :, :], cmap=cmap)"
   ]
  }
 ],
 "metadata": {
  "kernelspec": {
   "display_name": "parc",
   "language": "python",
   "name": "python3"
  },
  "language_info": {
   "codemirror_mode": {
    "name": "ipython",
    "version": 3
   },
   "file_extension": ".py",
   "mimetype": "text/x-python",
   "name": "python",
   "nbconvert_exporter": "python",
   "pygments_lexer": "ipython3",
   "version": "3.12.7"
  }
 },
 "nbformat": 4,
 "nbformat_minor": 2
}
