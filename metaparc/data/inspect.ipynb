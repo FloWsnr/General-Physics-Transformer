{
 "cells": [
  {
   "cell_type": "code",
   "execution_count": 9,
   "metadata": {},
   "outputs": [
    {
     "name": "stdout",
     "output_type": "stream",
     "text": [
      "\n",
      "Turbulent Radiative Layer Structure:\n",
      "boundary_conditions\n",
      "boundary_conditions/x_periodic\n",
      "boundary_conditions/x_periodic/mask\n",
      "    Shape: (128,)\n",
      "    Type: bool\n",
      "boundary_conditions/y_open\n",
      "boundary_conditions/y_open/mask\n",
      "    Shape: (384,)\n",
      "    Type: bool\n",
      "dimensions\n",
      "dimensions/time\n",
      "    Shape: (101,)\n",
      "    Type: float32\n",
      "dimensions/x\n",
      "    Shape: (128,)\n",
      "    Type: float32\n",
      "dimensions/y\n",
      "    Shape: (384,)\n",
      "    Type: float32\n",
      "scalars\n",
      "scalars/tcool\n",
      "    Shape: ()\n",
      "    Type: float32\n",
      "t0_fields\n",
      "t0_fields/density\n",
      "    Shape: (1, 101, 128, 384)\n",
      "    Type: float32\n",
      "t0_fields/pressure\n",
      "    Shape: (1, 101, 128, 384)\n",
      "    Type: float32\n",
      "t1_fields\n",
      "t1_fields/velocity\n",
      "    Shape: (1, 101, 128, 384, 2)\n",
      "    Type: float32\n",
      "t2_fields\n",
      "[ True False False False False False False False False False False False\n",
      " False False False False False False False False False False False False\n",
      " False False False False False False False False False False False False\n",
      " False False False False False False False False False False False False\n",
      " False False False False False False False False False False False False\n",
      " False False False False False False False False False False False False\n",
      " False False False False False False False False False False False False\n",
      " False False False False False False False False False False False False\n",
      " False False False False False False False False False False False False\n",
      " False False False False False False False False False False False False\n",
      " False False False False False False False  True]\n"
     ]
    }
   ],
   "source": [
    "import h5py\n",
    "import numpy as np\n",
    "import matplotlib.pyplot as plt\n",
    "from pathlib import Path\n",
    "\n",
    "# Define paths for both files\n",
    "turb_path = Path(\"/home/flwi01/Coding/MetaPARC/data/tasks/datasets/turbulent_radiative_layer_2D/data/test/turbulent_radiative_layer_tcool_0.03.hdf5\")\n",
    "porous_path = Path(\"/home/flwi01/Coding/MetaPARC/data/tasks/datasets/porous_twophase_flow/data/porous_twophase_flow_p_cap_40000.0_theta_150.0.hdf5\")\n",
    "\n",
    "# Function to print structure\n",
    "def print_structure(name, obj):\n",
    "    print(name)\n",
    "    if isinstance(obj, h5py.Dataset):\n",
    "        print(f\"    Shape: {obj.shape}\")\n",
    "        print(f\"    Type: {obj.dtype}\")\n",
    "\n",
    "# Print structures side by side\n",
    "print(\"\\nTurbulent Radiative Layer Structure:\")\n",
    "with h5py.File(turb_path, 'r') as f1:\n",
    "    f1.visititems(print_structure)\n",
    "    print(f1[\"boundary_conditions\"][\"x_periodic\"][\"mask\"][:])\n",
    "\n",
    "# print(\"\\nPorous Two-Phase Flow Structure:\")\n",
    "# with h5py.File(porous_path, 'r') as f2:\n",
    "#     f2.visititems(print_structure)\n",
    "\n",
    "#     # print time array\n",
    "#     print(\"\\nTime array:\")\n",
    "#     print(f2[\"dimensions\"][\"x\"][:])\n",
    "\n"
   ]
  }
 ],
 "metadata": {
  "kernelspec": {
   "display_name": "parc",
   "language": "python",
   "name": "python3"
  },
  "language_info": {
   "codemirror_mode": {
    "name": "ipython",
    "version": 3
   },
   "file_extension": ".py",
   "mimetype": "text/x-python",
   "name": "python",
   "nbconvert_exporter": "python",
   "pygments_lexer": "ipython3",
   "version": "3.12.7"
  }
 },
 "nbformat": 4,
 "nbformat_minor": 2
}
